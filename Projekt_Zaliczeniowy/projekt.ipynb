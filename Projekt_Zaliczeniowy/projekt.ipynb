{
 "cells": [
  {
   "cell_type": "code",
   "execution_count": 1,
   "metadata": {},
   "outputs": [],
   "source": [
    "from skimage import data, img_as_float, img_as_ubyte\n",
    "from skimage import io, img_as_ubyte, exposure\n",
    "from skimage.color import rgb2gray\n",
    "import matplotlib.pyplot as plt\n",
    "import cv2\n",
    "import warnings\n",
    "import numpy as np\n",
    "from skimage import filters\n",
    "import random\n",
    "from skimage import segmentation"
   ]
  },
  {
   "cell_type": "code",
   "execution_count": 2,
   "metadata": {},
   "outputs": [],
   "source": [
    "def show2imgs(im1, im2, title1='Obraz pierwszy', title2='Obraz drugi', size=(10,10)):\n",
    "    \n",
    "    import matplotlib.pyplot as plt\n",
    "    \n",
    "    f, (ax1, ax2) = plt.subplots(1,2, figsize=size)\n",
    "    ax1.imshow(im1, cmap='gray')\n",
    "    ax1.axis('off')\n",
    "    ax1.set_title(title1)\n",
    "\n",
    "    ax2.imshow(im2, cmap='gray')\n",
    "    ax2.axis('off')\n",
    "    ax2.set_title(title2)\n",
    "    plt.show()"
   ]
  },
  {
   "cell_type": "code",
   "execution_count": 3,
   "metadata": {},
   "outputs": [],
   "source": [
    "pola_monet = {0.01: 22969, 0.02: 29994, 0.05: 35829, 0.1: 25976, 0.2: 33252, 0.5: 38842, 1.0: 49378, 2.0: 45367, 5.0: 54034}"
   ]
  },
  {
   "cell_type": "code",
   "execution_count": 32,
   "metadata": {},
   "outputs": [],
   "source": [
    "def segmentuj(img):\n",
    "    for i in range(img.shape[0]-4):\n",
    "        for j in range(img.shape[1]-4):\n",
    "            if img[i][j] != 255.0:\n",
    "                if img[i][j] == 0.0:\n",
    "                    img[i][j] = random.randint(1, 250)\n",
    "                    if img[i-1][j-1] != 0.0 and img[i-1][j-1] != 255.0:\n",
    "                        img[i][j] = img[i-1][j-1]\n",
    "                    elif img[i-1][j] != 0.0 and img[i-1][j] != 255.0:\n",
    "                        img[i][j] = img[i-1][j]\n",
    "                    elif img[i-1][j+1] != 0.0 and img[i-1][j+1] != 255.0:\n",
    "                        img[i][j] = img[i-1][j+1]\n",
    "                    elif img[i][j-1] != 0.0 and img[i][j-1] != 255.0:\n",
    "                        img[i][j] = img[i][j-1]\n",
    "                    elif img[i][j+1] != 0.0 and img[i][j+1] != 255.0:\n",
    "                        img[i][j] = img[i][j+1]\n",
    "                    elif img[i+1][j-1] != 0.0 and img[i+1][j-1] != 255.0:\n",
    "                        img[i][j] = img[i-1][j-1]\n",
    "                    elif img[i+1][j] != 0.0 and img[i+1][j] != 255.0:\n",
    "                        img[i][j] = img[i+1][j]\n",
    "                    elif img[i+1][j+1] != 0.0 and img[i+1][j+1] != 255.0:\n",
    "                        img[i][j] = img[i+1][j+1]\n",
    "                    else:\n",
    "                        continue\n",
    "                    #scalanie obiektów\n",
    "                if img[i][j] != img[i-1][j-1] and img[i-1][j-1] != 255.0:\n",
    "                    img[i][j] = img[i-1][j-1]\n",
    "                    \n",
    "                elif img[i][j] != img[i-1][j] and img[i-1][j] != 255.0:\n",
    "                    img[i][j] = img[i-1][j]\n",
    "                    \n",
    "                elif img[i][j] != img[i-1][j+1] and img[i-1][j+1] != 255.0:\n",
    "                    img[i-1][j+1] = img[i][j]\n",
    "                    \n",
    "                elif img[i][j] != img[i][j-1] and img[i][j-1] != 255.0:\n",
    "                    img[i][j-1] = img[i][j]\n",
    "                    \n",
    "                elif img[i][j] != img[i][j+1] and img[i][j+1] != 255.0:\n",
    "                    img[i][j+1] = img[i][j]\n",
    "                    \n",
    "                elif img[i][j] != img[i+1][j-1] and img[i+1][j-1] != 255.0:\n",
    "                    img[i][j] = img[i+1][j-1]\n",
    "                    \n",
    "                elif img[i][j] != img[i+1][j] and img[i+1][j] != 255.0:\n",
    "                    img[i][j] = img[i+1][j]\n",
    "                elif img[i][j] != img[i+1][j+1] and img[i+1][j+1] != 255.0:\n",
    "                    img[i][j] = img[i+1][j+1]\n",
    "                else:\n",
    "                    continue\n",
    "    return img\n",
    "\n",
    "\n",
    "def scal(img):\n",
    "    for i in range(img.shape[0]-4):\n",
    "        for j in range(img.shape[1]-4):   \n",
    "            if img[i][j] != img[i-1][j-1] and img[i-1][j-1] != 255:\n",
    "                img[i][j] = img[i-1][j-1]\n",
    "\n",
    "            elif img[i][j] != img[i-1][j] and img[i-1][j] != 255:\n",
    "                img[i][j] = img[i-1][j]\n",
    "\n",
    "            elif img[i][j] != img[i-1][j+1] and img[i-1][j+1] != 255:\n",
    "                img[i-1][j+1] = img[i][j]\n",
    "\n",
    "            elif img[i][j] != img[i][j-1] and img[i][j-1] != 255:\n",
    "                img[i][j-1] = img[i][j]\n",
    "\n",
    "            elif img[i][j] != img[i][j+1] and img[i][j+1] != 255:\n",
    "                img[i][j+1] = img[i][j]\n",
    "\n",
    "            elif img[i][j] != img[i+1][j-1] and img[i+1][j-1] != 255:\n",
    "                img[i][j] = img[i+1][j-1]\n",
    "\n",
    "            elif img[i][j] != img[i+1][j] and img[i+1][j] != 255:\n",
    "                img[i][j] = img[i+1][j]\n",
    "            elif img[i][j] != img[i+1][j+1] and img[i+1][j+1] != 255:\n",
    "                img[i][j] = img[i+1][j+1]\n",
    "            else:\n",
    "                continue\n",
    "                \n",
    "    return img"
   ]
  },
  {
   "cell_type": "code",
   "execution_count": 254,
   "metadata": {},
   "outputs": [
    {
     "data": {
      "image/png": "[encoded data removed]",
      "text/plain": [
       "<Figure size 1800x1800 with 2 Axes>"
      ]
     },
     "metadata": {
      "needs_background": "light"
     },
     "output_type": "display_data"
    },
    {
     "data": {
      "image/png": "[encoded data removed]",
      "text/plain": [
       "<Figure size 432x288 with 1 Axes>"
      ]
     },
     "metadata": {
      "needs_background": "light"
     },
     "output_type": "display_data"
    }
   ],
   "source": [
    "img = io.imread('przeskalowane/0.28.jpg')\n",
    "th = 150\n",
    "img = img_as_ubyte(rgb2gray(img))\n",
    "\n",
    "th, bim = cv2.threshold(img, thresh=th, maxval=255, type=cv2.THRESH_OTSU)\n",
    "mbim = cv2.medianBlur(bim,  11)\n",
    "th = 25\n",
    "\n",
    "dt = cv2.distanceTransform(mbim, distanceType=cv2.DIST_L2, maskSize=cv2.DIST_MASK_PRECISE)\n",
    "\n",
    "th, bim = cv2.threshold(dt, thresh=th, maxval=255, type=cv2.THRESH_BINARY_INV)\n",
    "show2imgs(bim, dt, title1='Obraz po binaryzacji', title2='Obraz po transformacie odległościowej', size=(25,25))\n",
    "\n",
    "plt.imshow(bim, cmap=\"hot\")\n",
    "plt.axis('on')\n",
    "plt.show()\n",
    "\n",
    "nimg = segmentuj(bim)"
   ]
  },
  {
   "cell_type": "code",
   "execution_count": 255,
   "metadata": {},
   "outputs": [],
   "source": [
    "def licz_obiekty(img):\n",
    "    ile_obiektow = 0\n",
    "    obiekty = []\n",
    "    for i in range(img.shape[0]):\n",
    "        for j in range(img.shape[1]):\n",
    "            if img[i][j] != 255:\n",
    "                obiekty.append(img[i][j])\n",
    "    ile_obiektow = len(list(set(obiekty)))# zlicza niepowtarzające się elementy listy\n",
    "    return ile_obiektow"
   ]
  },
  {
   "cell_type": "code",
   "execution_count": 256,
   "metadata": {},
   "outputs": [
    {
     "name": "stdout",
     "output_type": "stream",
     "text": [
      "32\n",
      "0\n",
      "Wykonało się!\n",
      "32\n",
      "Wykonało się!\n",
      "12\n",
      "Wykonało się!\n",
      "6\n",
      "Wykonało się!\n"
     ]
    },
    {
     "data": {
      "image/png": "[encoded data removed]",
      "text/plain": [
       "<Figure size 432x288 with 1 Axes>"
      ]
     },
     "metadata": {
      "needs_background": "light"
     },
     "output_type": "display_data"
    },
    {
     "name": "stdout",
     "output_type": "stream",
     "text": [
      "Obiektów jest:\t 5\n"
     ]
    }
   ],
   "source": [
    "tmp = 0\n",
    "ile = licz_obiekty(nimg)\n",
    "print(ile)\n",
    "while tmp != ile:\n",
    "    print(tmp)\n",
    "    nimg = scal(nimg)\n",
    "    nimg = scal(nimg)\n",
    "    tmp = ile\n",
    "    ile = licz_obiekty(nimg)\n",
    "    print(\"Wykonało się!\")\n",
    "\n",
    "plt.imshow(nimg, cmap=\"hot\")\n",
    "plt.axis('on')\n",
    "plt.show()\n",
    "    \n",
    "print(\"Obiektów jest:\\t\", ile)"
   ]
  },
  {
   "cell_type": "code",
   "execution_count": 257,
   "metadata": {},
   "outputs": [],
   "source": [
    "kolory = []\n",
    "jakie_obiekty = []\n",
    "for i in range(nimg.shape[0]):\n",
    "    for j in range(nimg.shape[1]):\n",
    "        if nimg[i][j] != 255:\n",
    "            kolory.append(nimg[i][j])\n",
    "jakie_obiekty = list(set(kolory))"
   ]
  },
  {
   "cell_type": "code",
   "execution_count": 258,
   "metadata": {},
   "outputs": [
    {
     "name": "stdout",
     "output_type": "stream",
     "text": [
      "162.0 9991\n",
      "7.0 19612\n",
      "209.0 10723\n",
      "114.0 10769\n",
      "59.0 13582\n"
     ]
    }
   ],
   "source": [
    "pola_nowe = {}\n",
    "for x in jakie_obiekty:\n",
    "    ile_pikseli = 0\n",
    "    for i in range(nimg.shape[0]):\n",
    "        for j in range(nimg.shape[1]):\n",
    "            if nimg[i][j] == x:\n",
    "                ile_pikseli += 1\n",
    "    pola_nowe[x] = ile_pikseli\n",
    "    \n",
    "for i in pola_nowe:\n",
    "    print(i, pola_nowe[i])"
   ]
  },
  {
   "cell_type": "code",
   "execution_count": 259,
   "metadata": {},
   "outputs": [
    {
     "data": {
      "image/png": "[encoded data removed]",
      "text/plain": [
       "<Figure size 1800x1800 with 2 Axes>"
      ]
     },
     "metadata": {
      "needs_background": "light"
     },
     "output_type": "display_data"
    }
   ],
   "source": [
    "#for i in range(nimg.shape[0]):\n",
    "#    for j in range(nimg.shape[1]):\n",
    "#        if nimg[i][j] != 238.0:\n",
    "#            nimg[i][j] = 255\n",
    "show2imgs(bim, nimg, title1='Obraz po binaryzacji /*wejściowy*/', title2='Obraz po wszystkich przekształceniach', size=(25,25))"
   ]
  },
  {
   "cell_type": "code",
   "execution_count": 260,
   "metadata": {},
   "outputs": [],
   "source": [
    "pola_monet = {0.01: 10674, 0.02: 15066, 0.05: 20265, 0.1: 12107, 0.2: 18275, 0.5: 22277, 1.0: 30209, 2.0: 26478, 5.0: 30475}"
   ]
  },
  {
   "cell_type": "code",
   "execution_count": 261,
   "metadata": {},
   "outputs": [
    {
     "name": "stdout",
     "output_type": "stream",
     "text": [
      "162.0 \t 0.01\n",
      "7.0 \t 0.05\n",
      "209.0 \t 0.01\n",
      "114.0 \t 0.01\n",
      "Wartość nominałów na tym obrazku wynosi: 0.08\n"
     ]
    }
   ],
   "source": [
    "#sprawdzanie nominałów\n",
    "#w fazie tworzenia \n",
    "wartosc = 0\n",
    "for i in pola_nowe:\n",
    "    #print(i)\n",
    "    for j in pola_monet:\n",
    "        if pola_nowe[i] > pola_monet[j]-700 and pola_nowe[i] < pola_monet[j]+900:\n",
    "            print(i, \"\\t\", j)\n",
    "            wartosc += j\n",
    "    \n",
    "        \n",
    "            \n",
    "print(\"Wartość nominałów na tym obrazku wynosi:\", wartosc)"
   ]
  },
  {
   "cell_type": "code",
   "execution_count": null,
   "metadata": {},
   "outputs": [],
   "source": []
  },
  {
   "cell_type": "code",
   "execution_count": null,
   "metadata": {},
   "outputs": [],
   "source": []
  }
 ],
 "metadata": {
  "kernelspec": {
   "display_name": "Python 3",
   "language": "python",
   "name": "python3"
  },
  "language_info": {
   "codemirror_mode": {
    "name": "ipython",
    "version": 3
   },
   "file_extension": ".py",
   "mimetype": "text/x-python",
   "name": "python",
   "nbconvert_exporter": "python",
   "pygments_lexer": "ipython3",
   "version": "3.6.6"
  }
 },
 "nbformat": 4,
 "nbformat_minor": 2
}
