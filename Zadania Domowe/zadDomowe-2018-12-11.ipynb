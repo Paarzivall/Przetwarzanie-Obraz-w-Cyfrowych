{
 "cells": [
  {
   "cell_type": "code",
   "execution_count": 28,
   "metadata": {},
   "outputs": [],
   "source": [
    "import numpy as np\n",
    "import matplotlib.pyplot as plt\n",
    "from skimage import io, img_as_ubyte\n",
    "from skimage.color import rgb2gray\n",
    "import cv2\n",
    "import random"
   ]
  },
  {
   "cell_type": "code",
   "execution_count": 29,
   "metadata": {},
   "outputs": [],
   "source": [
    "def show2imgs(im1, im2, title1='Obraz pierwszy', title2='Obraz drugi', size=(10,10)):\n",
    "\n",
    "    f, (ax1, ax2) = plt.subplots(1,2, figsize=size)\n",
    "    ax1.imshow(im1, cmap='gray')\n",
    "    ax1.axis('off')\n",
    "    ax1.set_title(title1)\n",
    "\n",
    "    ax2.imshow(im2, cmap='gray')\n",
    "    ax2.axis('off')\n",
    "    ax2.set_title(title2)\n",
    "    plt.show()"
   ]
  },
  {
   "cell_type": "code",
   "execution_count": 30,
   "metadata": {},
   "outputs": [],
   "source": [
    "def segmentuj(img):\n",
    "    for i in range(img.shape[0]):\n",
    "        for j in range(img.shape[1]):\n",
    "            if img[i][j] != 255:\n",
    "                if img[i][j] == 0:\n",
    "                    img[i][j] = random.randint(1, 100)\n",
    "                    if img[i-1][j-1] != 0 and img[i-1][j-1] != 255:\n",
    "                        img[i][j] = img[i-1][j-1]\n",
    "                    elif img[i-1][j] != 0 and img[i-1][j] != 255:\n",
    "                        img[i][j] = img[i-1][j]\n",
    "                    elif img[i-1][j+1] != 0 and img[i-1][j+1] != 255:\n",
    "                        img[i][j] = img[i-1][j+1]\n",
    "                    elif img[i][j-1] != 0 and img[i][j-1] != 255:\n",
    "                        img[i][j] = img[i][j-1]\n",
    "                    elif img[i][j+1] != 0 and img[i][j+1] != 255:\n",
    "                        img[i][j] = img[i][j+1]\n",
    "                    elif img[i+1][j-1] != 0 and img[i+1][j-1] != 255:\n",
    "                        img[i][j] = img[i-1][j-1]\n",
    "                    elif img[i+1][j] != 0 and img[i+1][j] != 255:\n",
    "                        img[i][j] = img[i+1][j]\n",
    "                    elif img[i+1][j+1] != 0 and img[i+1][j+1] != 255:\n",
    "                        img[i][j] = img[i+1][j+1]\n",
    "                    else:\n",
    "                        continue\n",
    "                    #scalanie obiektów\n",
    "                if img[i][j] != img[i-1][j-1] and img[i-1][j-1] != 255:\n",
    "                    img[i][j] = img[i-1][j-1]\n",
    "                    \n",
    "                elif img[i][j] != img[i-1][j] and img[i-1][j] != 255:\n",
    "                    img[i][j] = img[i-1][j]\n",
    "                    \n",
    "                elif img[i][j] != img[i-1][j+1] and img[i-1][j+1] != 255:\n",
    "                    img[i-1][j+1] = img[i][j]\n",
    "                    \n",
    "                elif img[i][j] != img[i][j-1] and img[i][j-1] != 255:\n",
    "                    img[i][j-1] = img[i][j]\n",
    "                    \n",
    "                elif img[i][j] != img[i][j+1] and img[i][j+1] != 255:\n",
    "                    img[i][j+1] = img[i][j]\n",
    "                    \n",
    "                elif img[i][j] != img[i+1][j-1] and img[i+1][j-1] != 255:\n",
    "                    img[i][j] = img[i+1][j-1]\n",
    "                    \n",
    "                elif img[i][j] != img[i+1][j] and img[i+1][j] != 255:\n",
    "                    img[i][j] = img[i+1][j]\n",
    "                elif img[i][j] != img[i+1][j+1] and img[i+1][j+1] != 255:\n",
    "                    img[i][j] = img[i+1][j+1]\n",
    "                else:\n",
    "                    continue\n",
    "    return img"
   ]
  },
  {
   "cell_type": "code",
   "execution_count": 31,
   "metadata": {},
   "outputs": [],
   "source": [
    "def scal(img):\n",
    "    for i in range(img.shape[0]):\n",
    "        for j in range(img.shape[1]):\n",
    "            if img[i][j] != 255:               \n",
    "                if img[i][j] != img[i-1][j-1] and img[i-1][j-1] != 255:\n",
    "                    img[i][j] = img[i-1][j-1]\n",
    "                    \n",
    "                elif img[i][j] != img[i-1][j] and img[i-1][j] != 255:\n",
    "                    img[i][j] = img[i-1][j]\n",
    "                    \n",
    "                elif img[i][j] != img[i-1][j+1] and img[i-1][j+1] != 255:\n",
    "                    img[i-1][j+1] = img[i][j]\n",
    "                    \n",
    "                elif img[i][j] != img[i][j-1] and img[i][j-1] != 255:\n",
    "                    img[i][j-1] = img[i][j]\n",
    "                    \n",
    "                elif img[i][j] != img[i][j+1] and img[i][j+1] != 255:\n",
    "                    img[i][j+1] = img[i][j]\n",
    "                    \n",
    "                elif img[i][j] != img[i+1][j-1] and img[i+1][j-1] != 255:\n",
    "                    img[i][j] = img[i+1][j-1]\n",
    "                    \n",
    "                elif img[i][j] != img[i+1][j] and img[i+1][j] != 255:\n",
    "                    img[i][j] = img[i+1][j]\n",
    "                elif img[i][j] != img[i+1][j+1] and img[i+1][j+1] != 255:\n",
    "                    img[i][j] = img[i+1][j+1]\n",
    "                else:\n",
    "                    continue\n",
    "    return img"
   ]
  },
  {
   "cell_type": "code",
   "execution_count": 32,
   "metadata": {},
   "outputs": [],
   "source": [
    "def licz_obiekty(img):\n",
    "    ile_obiektow = 0\n",
    "    obiekty = []\n",
    "    for i in range(img.shape[0]):\n",
    "        for j in range(img.shape[1]):\n",
    "            if img[i][j] != 255:\n",
    "                obiekty.append(img[i][j])\n",
    "    ile_obiektow = len(list(set(obiekty)))# zlicza niepowtarzające się elementy listy\n",
    "    return ile_obiektow"
   ]
  },
  {
   "cell_type": "code",
   "execution_count": 33,
   "metadata": {},
   "outputs": [
    {
     "data": {
      "image/png": "[encoded data removed]",
      "text/plain": [
       "<Figure size 432x288 with 1 Axes>"
      ]
     },
     "metadata": {
      "needs_background": "light"
     },
     "output_type": "display_data"
    }
   ],
   "source": [
    "img = io.imread('pattern1.png')\n",
    "th = 110\n",
    "img = img_as_ubyte(rgb2gray(img))\n",
    "th, bim = cv2.threshold(img, thresh=th, maxval=255, type=cv2.THRESH_BINARY)\n",
    "bimCPY = bim;\n",
    "plt.imshow(bimCPY, cmap=\"gray\")\n",
    "plt.axis('on')\n",
    "plt.show()"
   ]
  },
  {
   "cell_type": "code",
   "execution_count": 34,
   "metadata": {},
   "outputs": [
    {
     "data": {
      "image/png": "[encoded data removed]",
      "text/plain": [
       "<Figure size 432x288 with 1 Axes>"
      ]
     },
     "metadata": {
      "needs_background": "light"
     },
     "output_type": "display_data"
    }
   ],
   "source": [
    "#najlepiej uruchomić segmentację 2 razy gdyż przez \"niewielki\" zakres możliwych kolorów mogą się one powtarzać\n",
    "\n",
    "img = segmentuj(bim)\n",
    "nimg = scal(img)\n",
    "nimg = scal(nimg)\n",
    "plt.imshow(nimg, cmap=\"hot\")\n",
    "plt.axis('on')\n",
    "plt.show()"
   ]
  },
  {
   "cell_type": "code",
   "execution_count": 36,
   "metadata": {},
   "outputs": [
    {
     "name": "stdout",
     "output_type": "stream",
     "text": [
      "Obiektów jest:\t 3\n"
     ]
    }
   ],
   "source": [
    "ile = licz_obiekty(nimg)\n",
    "print(\"Obiektów jest:\\t\", ile)"
   ]
  },
  {
   "cell_type": "code",
   "execution_count": null,
   "metadata": {},
   "outputs": [],
   "source": []
  }
 ],
 "metadata": {
  "kernelspec": {
   "display_name": "Python 3",
   "language": "python",
   "name": "python3"
  },
  "language_info": {
   "codemirror_mode": {
    "name": "ipython",
    "version": 3
   },
   "file_extension": ".py",
   "mimetype": "text/x-python",
   "name": "python",
   "nbconvert_exporter": "python",
   "pygments_lexer": "ipython3",
   "version": "3.6.6"
  }
 },
 "nbformat": 4,
 "nbformat_minor": 2
}
